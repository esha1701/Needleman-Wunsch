{
  "nbformat": 4,
  "nbformat_minor": 0,
  "metadata": {
    "colab": {
      "provenance": []
    },
    "kernelspec": {
      "name": "python3",
      "display_name": "Python 3"
    },
    "language_info": {
      "name": "python"
    }
  },
  "cells": [
    {
      "cell_type": "markdown",
      "source": [
        "# Aligning sequences GGCT and GGATT using Needleman–Wunsch Method\n"
      ],
      "metadata": {
        "id": "ShhJP4JUL1aG"
      }
    },
    {
      "cell_type": "code",
      "source": [
        "import numpy as np\n"
      ],
      "metadata": {
        "id": "feBEDAf43Qc6"
      },
      "execution_count": null,
      "outputs": []
    },
    {
      "cell_type": "markdown",
      "source": [
        "## Initialise the matrix\n",
        "\n"
      ],
      "metadata": {
        "id": "Si_qhUWO-9Gc"
      }
    },
    {
      "cell_type": "code",
      "source": [
        "dna_seq1 = 'GGATT'\n",
        "dna_seq2 = 'GGCT'\n",
        "\n",
        "len_seq1 = len(dna_seq1)\n",
        "len_seq2 = len(dna_seq2)\n",
        "\n",
        "\n",
        "#Initialise matrix\n",
        "alignment_score = np.zeros((len_seq1+1, len_seq2+1), dtype=int)\n",
        "gap_penalty = -2  # Gap penalty is set to -2\n",
        "backtrace = {}  # Dictionary to store backtrace pointers\n"
      ],
      "metadata": {
        "id": "1GcoyuUGvdFC"
      },
      "execution_count": null,
      "outputs": []
    },
    {
      "cell_type": "markdown",
      "source": [
        "## Matrix Fill Step"
      ],
      "metadata": {
        "id": "Cd4HDMaE_ZAn"
      }
    },
    {
      "cell_type": "code",
      "source": [
        "print(\"Filling the matrix row wise and getting score values at each step in the form:\")\n",
        "print(\"M(i,j): max(diagonal score, left score, top score)\\n\")\n",
        "# Populate the Score matrix\n",
        "for index1 in range(1, len_seq1+1):\n",
        "    for index2 in range(1, len_seq2+1):\n",
        "\n",
        "        # Mismatch score is -1\n",
        "        local_score = -1\n",
        "\n",
        "        # Check for a match and set score to 2 if true\n",
        "        if dna_seq1[index1-1] == dna_seq2[index2-1]:\n",
        "            local_score = 2\n",
        "\n",
        "\n",
        "        # Calculate possible alignment scores for current cell\n",
        "        choices = [\n",
        "            alignment_score[index1-1, index2-1] + local_score,\n",
        "            alignment_score[index1, index2-1] + gap_penalty,\n",
        "            alignment_score[index1-1, index2] + gap_penalty\n",
        "        ]\n",
        "        # Get the maximum score among the choices\n",
        "        max_score = max(choices)\n",
        "        max_index = choices.index(max_score)\n",
        "\n",
        "        # Update the score in the current cell\n",
        "        alignment_score[index1, index2] = max_score\n",
        "\n",
        "        print('M({},{}): max{}'.format(index1, index2,choices))\n",
        "        print(\"Matrix Status\")\n",
        "        print(alignment_score, \"\\n\")\n",
        "\n",
        "        # Store the backtrace information\n",
        "        backtrace[(index1, index2)] = [\n",
        "            (index1-1, index2-1),\n",
        "            (index1, index2-1),\n",
        "            (index1-1, index2)\n",
        "        ][max_index]\n",
        "\n",
        "\n",
        "\n"
      ],
      "metadata": {
        "colab": {
          "base_uri": "https://localhost:8080/"
        },
        "id": "CFBbl7f0_YNC",
        "outputId": "a6b3bd75-b39b-4d16-a0f0-935904ab1011"
      },
      "execution_count": null,
      "outputs": [
        {
          "output_type": "stream",
          "name": "stdout",
          "text": [
            "Filling the matrix row wise and getting score values at each step in the form:\n",
            "M(i,j): max(diagonal score, left score, top score)\n",
            "\n",
            "M(1,1): max[2, -2, -2]\n",
            "Matrix Status\n",
            "[[0 0 0 0 0]\n",
            " [0 2 0 0 0]\n",
            " [0 0 0 0 0]\n",
            " [0 0 0 0 0]\n",
            " [0 0 0 0 0]\n",
            " [0 0 0 0 0]] \n",
            "\n",
            "M(1,2): max[2, 0, -2]\n",
            "Matrix Status\n",
            "[[0 0 0 0 0]\n",
            " [0 2 2 0 0]\n",
            " [0 0 0 0 0]\n",
            " [0 0 0 0 0]\n",
            " [0 0 0 0 0]\n",
            " [0 0 0 0 0]] \n",
            "\n",
            "M(1,3): max[-1, 0, -2]\n",
            "Matrix Status\n",
            "[[0 0 0 0 0]\n",
            " [0 2 2 0 0]\n",
            " [0 0 0 0 0]\n",
            " [0 0 0 0 0]\n",
            " [0 0 0 0 0]\n",
            " [0 0 0 0 0]] \n",
            "\n",
            "M(1,4): max[-1, -2, -2]\n",
            "Matrix Status\n",
            "[[ 0  0  0  0  0]\n",
            " [ 0  2  2  0 -1]\n",
            " [ 0  0  0  0  0]\n",
            " [ 0  0  0  0  0]\n",
            " [ 0  0  0  0  0]\n",
            " [ 0  0  0  0  0]] \n",
            "\n",
            "M(2,1): max[2, -2, 0]\n",
            "Matrix Status\n",
            "[[ 0  0  0  0  0]\n",
            " [ 0  2  2  0 -1]\n",
            " [ 0  2  0  0  0]\n",
            " [ 0  0  0  0  0]\n",
            " [ 0  0  0  0  0]\n",
            " [ 0  0  0  0  0]] \n",
            "\n",
            "M(2,2): max[4, 0, 0]\n",
            "Matrix Status\n",
            "[[ 0  0  0  0  0]\n",
            " [ 0  2  2  0 -1]\n",
            " [ 0  2  4  0  0]\n",
            " [ 0  0  0  0  0]\n",
            " [ 0  0  0  0  0]\n",
            " [ 0  0  0  0  0]] \n",
            "\n",
            "M(2,3): max[1, 2, -2]\n",
            "Matrix Status\n",
            "[[ 0  0  0  0  0]\n",
            " [ 0  2  2  0 -1]\n",
            " [ 0  2  4  2  0]\n",
            " [ 0  0  0  0  0]\n",
            " [ 0  0  0  0  0]\n",
            " [ 0  0  0  0  0]] \n",
            "\n",
            "M(2,4): max[-1, 0, -3]\n",
            "Matrix Status\n",
            "[[ 0  0  0  0  0]\n",
            " [ 0  2  2  0 -1]\n",
            " [ 0  2  4  2  0]\n",
            " [ 0  0  0  0  0]\n",
            " [ 0  0  0  0  0]\n",
            " [ 0  0  0  0  0]] \n",
            "\n",
            "M(3,1): max[-1, -2, 0]\n",
            "Matrix Status\n",
            "[[ 0  0  0  0  0]\n",
            " [ 0  2  2  0 -1]\n",
            " [ 0  2  4  2  0]\n",
            " [ 0  0  0  0  0]\n",
            " [ 0  0  0  0  0]\n",
            " [ 0  0  0  0  0]] \n",
            "\n",
            "M(3,2): max[1, -2, 2]\n",
            "Matrix Status\n",
            "[[ 0  0  0  0  0]\n",
            " [ 0  2  2  0 -1]\n",
            " [ 0  2  4  2  0]\n",
            " [ 0  0  2  0  0]\n",
            " [ 0  0  0  0  0]\n",
            " [ 0  0  0  0  0]] \n",
            "\n",
            "M(3,3): max[3, 0, 0]\n",
            "Matrix Status\n",
            "[[ 0  0  0  0  0]\n",
            " [ 0  2  2  0 -1]\n",
            " [ 0  2  4  2  0]\n",
            " [ 0  0  2  3  0]\n",
            " [ 0  0  0  0  0]\n",
            " [ 0  0  0  0  0]] \n",
            "\n",
            "M(3,4): max[1, 1, -2]\n",
            "Matrix Status\n",
            "[[ 0  0  0  0  0]\n",
            " [ 0  2  2  0 -1]\n",
            " [ 0  2  4  2  0]\n",
            " [ 0  0  2  3  1]\n",
            " [ 0  0  0  0  0]\n",
            " [ 0  0  0  0  0]] \n",
            "\n",
            "M(4,1): max[-1, -2, -2]\n",
            "Matrix Status\n",
            "[[ 0  0  0  0  0]\n",
            " [ 0  2  2  0 -1]\n",
            " [ 0  2  4  2  0]\n",
            " [ 0  0  2  3  1]\n",
            " [ 0 -1  0  0  0]\n",
            " [ 0  0  0  0  0]] \n",
            "\n",
            "M(4,2): max[-1, -3, 0]\n",
            "Matrix Status\n",
            "[[ 0  0  0  0  0]\n",
            " [ 0  2  2  0 -1]\n",
            " [ 0  2  4  2  0]\n",
            " [ 0  0  2  3  1]\n",
            " [ 0 -1  0  0  0]\n",
            " [ 0  0  0  0  0]] \n",
            "\n",
            "M(4,3): max[1, -2, 1]\n",
            "Matrix Status\n",
            "[[ 0  0  0  0  0]\n",
            " [ 0  2  2  0 -1]\n",
            " [ 0  2  4  2  0]\n",
            " [ 0  0  2  3  1]\n",
            " [ 0 -1  0  1  0]\n",
            " [ 0  0  0  0  0]] \n",
            "\n",
            "M(4,4): max[5, -1, -1]\n",
            "Matrix Status\n",
            "[[ 0  0  0  0  0]\n",
            " [ 0  2  2  0 -1]\n",
            " [ 0  2  4  2  0]\n",
            " [ 0  0  2  3  1]\n",
            " [ 0 -1  0  1  5]\n",
            " [ 0  0  0  0  0]] \n",
            "\n",
            "M(5,1): max[-1, -2, -3]\n",
            "Matrix Status\n",
            "[[ 0  0  0  0  0]\n",
            " [ 0  2  2  0 -1]\n",
            " [ 0  2  4  2  0]\n",
            " [ 0  0  2  3  1]\n",
            " [ 0 -1  0  1  5]\n",
            " [ 0 -1  0  0  0]] \n",
            "\n",
            "M(5,2): max[-2, -3, -2]\n",
            "Matrix Status\n",
            "[[ 0  0  0  0  0]\n",
            " [ 0  2  2  0 -1]\n",
            " [ 0  2  4  2  0]\n",
            " [ 0  0  2  3  1]\n",
            " [ 0 -1  0  1  5]\n",
            " [ 0 -1 -2  0  0]] \n",
            "\n",
            "M(5,3): max[-1, -4, -1]\n",
            "Matrix Status\n",
            "[[ 0  0  0  0  0]\n",
            " [ 0  2  2  0 -1]\n",
            " [ 0  2  4  2  0]\n",
            " [ 0  0  2  3  1]\n",
            " [ 0 -1  0  1  5]\n",
            " [ 0 -1 -2 -1  0]] \n",
            "\n",
            "M(5,4): max[3, -3, 3]\n",
            "Matrix Status\n",
            "[[ 0  0  0  0  0]\n",
            " [ 0  2  2  0 -1]\n",
            " [ 0  2  4  2  0]\n",
            " [ 0  0  2  3  1]\n",
            " [ 0 -1  0  1  5]\n",
            " [ 0 -1 -2 -1  3]] \n",
            "\n"
          ]
        }
      ]
    },
    {
      "cell_type": "code",
      "source": [
        "print(\"Final Alignment Score Matrix:\\n\")\n",
        "print(alignment_score)\n",
        "\n"
      ],
      "metadata": {
        "colab": {
          "base_uri": "https://localhost:8080/"
        },
        "id": "psUSJHp52udH",
        "outputId": "0d805730-5ac0-4f77-abcc-3181472f58d1"
      },
      "execution_count": null,
      "outputs": [
        {
          "output_type": "stream",
          "name": "stdout",
          "text": [
            "Final Alignment Score Matrix:\n",
            "\n",
            "[[ 0  0  0  0  0]\n",
            " [ 0  2  2  0 -1]\n",
            " [ 0  2  4  2  0]\n",
            " [ 0  0  2  3  1]\n",
            " [ 0 -1  0  1  5]\n",
            " [ 0 -1 -2 -1  3]]\n"
          ]
        }
      ]
    },
    {
      "cell_type": "code",
      "source": [
        "\n",
        "# Initialize variables for backtracing\n",
        "\n",
        "current_index1, current_index2 = len_seq1, len_seq2\n",
        "trace_path = [(current_index1, current_index2)]\n",
        "\n",
        "# Perform backtracing to construct the alignment\n",
        "while current_index1 > 1 and current_index2 > 1:\n",
        "    current_index1, current_index2 = backtrace[(current_index1, current_index2)]\n",
        "    trace_path.append((current_index1, current_index2))\n",
        "\n",
        "prev_index1, prev_index2 = 0, 0\n",
        "\n",
        "# Initialize variables for storing aligned sequences\n",
        "aligned_seq1, aligned_seq2 = '', ''\n",
        "\n",
        "# Create aligned sequences based on the trace path\n",
        "for index1, index2 in reversed(trace_path):\n",
        "    char1 = dna_seq1[index1-1] if index1 != prev_index1 else '_'\n",
        "    char2 = dna_seq2[index2-1] if index2 != prev_index2 else '_'\n",
        "    prev_index1, prev_index2 = index1, index2\n",
        "    aligned_seq1 += char1\n",
        "    aligned_seq2 += char2\n",
        "\n",
        "print(\"Aligned dna_seq1:\", aligned_seq1)\n",
        "print(\"Aligned dna_seq2:\", aligned_seq2)"
      ],
      "metadata": {
        "id": "agDLvjQKxP0l",
        "colab": {
          "base_uri": "https://localhost:8080/"
        },
        "outputId": "b1730cb1-c904-4d25-8d23-6c2f2647b64f"
      },
      "execution_count": null,
      "outputs": [
        {
          "output_type": "stream",
          "name": "stdout",
          "text": [
            "Aligned dna_seq1: GGATT\n",
            "Aligned dna_seq2: GG_CT\n"
          ]
        }
      ]
    }
  ]
}